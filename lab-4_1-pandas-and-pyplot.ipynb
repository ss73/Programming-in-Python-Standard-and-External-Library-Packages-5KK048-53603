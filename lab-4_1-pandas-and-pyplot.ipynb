{
 "cells": [
  {
   "cell_type": "markdown",
   "id": "278083c9",
   "metadata": {
    "_cell_guid": "b1076dfc-b9ad-4769-8c92-a6c4dae69d19",
    "_uuid": "8f2839f25d086af736a60e9eeb907d3b93b6e0e5",
    "papermill": {
     "duration": 0.008198,
     "end_time": "2024-10-13T15:32:08.424830",
     "exception": false,
     "start_time": "2024-10-13T15:32:08.416632",
     "status": "completed"
    },
    "tags": []
   },
   "source": [
    "# Lab 4: exploratory data analysis and visualization\n",
    "\n",
    "How to navigate the lab:\n",
    "\n",
    "- For some exercises, you will need to fill in the blanks by adding the correct sentences or code. Look for ## YOUR CODE HERE.\n",
    "- In certain sections, you are required to explain why the code behaves in specific ways. Identify these with a ❓💬❓ mark.\n",
    "- In some parts, you will need to write a piece of code entirely on your own. Look for \"💻💻YOUR CODE HERE:\""
   ]
  },
  {
   "cell_type": "markdown",
   "id": "eec57f63",
   "metadata": {
    "papermill": {
     "duration": 0.007252,
     "end_time": "2024-10-13T15:32:08.439854",
     "exception": false,
     "start_time": "2024-10-13T15:32:08.432602",
     "status": "completed"
    },
    "tags": []
   },
   "source": [
    "## Part 1: Analiysing a data set"
   ]
  },
  {
   "cell_type": "markdown",
   "id": "534f7c09",
   "metadata": {
    "papermill": {
     "duration": 0.007989,
     "end_time": "2024-10-13T15:32:08.455572",
     "exception": false,
     "start_time": "2024-10-13T15:32:08.447583",
     "status": "completed"
    },
    "tags": []
   },
   "source": [
    "#### Upload and prepare your dataset. \n",
    "\n",
    "1. Upload the dataset that I provided to your Kaggle environment. You can find information about this dataset [here](https://www.kaggle.com/datasets/zeesolver/consumer-behavior-and-shopping-habits-dataset/data).\n",
    "\n",
    "> Please use the file I provided, as I have made special modifications to it.\n",
    "\n",
    "2. Remove duplicates and null values from the dataset. \n",
    "    - Drop all rows that contain at least one null value.\n",
    "    - Drop duplicates but keep the last. "
   ]
  },
  {
   "cell_type": "code",
   "execution_count": 1,
   "id": "5e850ffc",
   "metadata": {
    "execution": {
     "iopub.execute_input": "2024-10-13T15:32:08.473440Z",
     "iopub.status.busy": "2024-10-13T15:32:08.472436Z",
     "iopub.status.idle": "2024-10-13T15:32:09.539931Z",
     "shell.execute_reply": "2024-10-13T15:32:09.538718Z"
    },
    "papermill": {
     "duration": 1.079411,
     "end_time": "2024-10-13T15:32:09.542737",
     "exception": false,
     "start_time": "2024-10-13T15:32:08.463326",
     "status": "completed"
    },
    "tags": []
   },
   "outputs": [
    {
     "data": {
      "text/html": [
       "<div>\n",
       "<style scoped>\n",
       "    .dataframe tbody tr th:only-of-type {\n",
       "        vertical-align: middle;\n",
       "    }\n",
       "\n",
       "    .dataframe tbody tr th {\n",
       "        vertical-align: top;\n",
       "    }\n",
       "\n",
       "    .dataframe thead th {\n",
       "        text-align: right;\n",
       "    }\n",
       "</style>\n",
       "<table border=\"1\" class=\"dataframe\">\n",
       "  <thead>\n",
       "    <tr style=\"text-align: right;\">\n",
       "      <th></th>\n",
       "      <th>Customer ID</th>\n",
       "      <th>Age</th>\n",
       "      <th>Gender</th>\n",
       "      <th>Item Purchased</th>\n",
       "      <th>Category</th>\n",
       "      <th>Purchase Amount (USD)</th>\n",
       "      <th>Location</th>\n",
       "      <th>Size</th>\n",
       "      <th>Color</th>\n",
       "      <th>Season</th>\n",
       "      <th>Review Rating</th>\n",
       "      <th>Subscription Status</th>\n",
       "      <th>Shipping Type</th>\n",
       "      <th>Discount Applied</th>\n",
       "      <th>Promo Code Used</th>\n",
       "      <th>Previous Purchases</th>\n",
       "      <th>Payment Method</th>\n",
       "      <th>Frequency of Purchases</th>\n",
       "    </tr>\n",
       "  </thead>\n",
       "  <tbody>\n",
       "    <tr>\n",
       "      <th>0</th>\n",
       "      <td>1</td>\n",
       "      <td>55.0</td>\n",
       "      <td>Male</td>\n",
       "      <td>Blouse</td>\n",
       "      <td>Clothing</td>\n",
       "      <td>53.0</td>\n",
       "      <td>Kentucky</td>\n",
       "      <td>L</td>\n",
       "      <td>Gray</td>\n",
       "      <td>Winter</td>\n",
       "      <td>3.1</td>\n",
       "      <td>Yes</td>\n",
       "      <td>Express</td>\n",
       "      <td>Yes</td>\n",
       "      <td>Yes</td>\n",
       "      <td>14.0</td>\n",
       "      <td>Venmo</td>\n",
       "      <td>Fortnightly</td>\n",
       "    </tr>\n",
       "    <tr>\n",
       "      <th>1</th>\n",
       "      <td>2</td>\n",
       "      <td>19.0</td>\n",
       "      <td>Male</td>\n",
       "      <td>Sweater</td>\n",
       "      <td>Clothing</td>\n",
       "      <td>64.0</td>\n",
       "      <td>Maine</td>\n",
       "      <td>L</td>\n",
       "      <td>Maroon</td>\n",
       "      <td>Winter</td>\n",
       "      <td>3.1</td>\n",
       "      <td>Yes</td>\n",
       "      <td>Express</td>\n",
       "      <td>Yes</td>\n",
       "      <td>Yes</td>\n",
       "      <td>2.0</td>\n",
       "      <td>Cash</td>\n",
       "      <td>Fortnightly</td>\n",
       "    </tr>\n",
       "    <tr>\n",
       "      <th>2</th>\n",
       "      <td>3</td>\n",
       "      <td>50.0</td>\n",
       "      <td>Male</td>\n",
       "      <td>Jeans</td>\n",
       "      <td>Clothing</td>\n",
       "      <td>73.0</td>\n",
       "      <td>Massachusetts</td>\n",
       "      <td>S</td>\n",
       "      <td>Maroon</td>\n",
       "      <td>Spring</td>\n",
       "      <td>3.1</td>\n",
       "      <td>Yes</td>\n",
       "      <td>Free Shipping</td>\n",
       "      <td>Yes</td>\n",
       "      <td>Yes</td>\n",
       "      <td>23.0</td>\n",
       "      <td>Credit Card</td>\n",
       "      <td>Weekly</td>\n",
       "    </tr>\n",
       "  </tbody>\n",
       "</table>\n",
       "</div>"
      ],
      "text/plain": [
       "   Customer ID   Age Gender Item Purchased  Category  Purchase Amount (USD)  \\\n",
       "0            1  55.0   Male         Blouse  Clothing                   53.0   \n",
       "1            2  19.0   Male        Sweater  Clothing                   64.0   \n",
       "2            3  50.0   Male          Jeans  Clothing                   73.0   \n",
       "\n",
       "        Location Size   Color  Season  Review Rating Subscription Status  \\\n",
       "0       Kentucky    L    Gray  Winter            3.1                 Yes   \n",
       "1          Maine    L  Maroon  Winter            3.1                 Yes   \n",
       "2  Massachusetts    S  Maroon  Spring            3.1                 Yes   \n",
       "\n",
       "   Shipping Type Discount Applied Promo Code Used  Previous Purchases  \\\n",
       "0        Express              Yes             Yes                14.0   \n",
       "1        Express              Yes             Yes                 2.0   \n",
       "2  Free Shipping              Yes             Yes                23.0   \n",
       "\n",
       "  Payment Method Frequency of Purchases  \n",
       "0          Venmo            Fortnightly  \n",
       "1           Cash            Fortnightly  \n",
       "2    Credit Card                 Weekly  "
      ]
     },
     "execution_count": 1,
     "metadata": {},
     "output_type": "execute_result"
    }
   ],
   "source": [
    "import pandas as pd\n",
    "#df = pd.read_csv('https://raw.githubusercontent.com/DaliaO15/python-course-imgs/refs/heads/main/shopping_behaviour_new(1).csv')\n",
    "df = pd.read_csv('/kaggle/input/shopping-behaviour-modified-for-lab/shopping_behaviour_new(1).csv')\n",
    "df.head(3)"
   ]
  },
  {
   "cell_type": "code",
   "execution_count": 2,
   "id": "6a6f3e2b",
   "metadata": {
    "execution": {
     "iopub.execute_input": "2024-10-13T15:32:09.560605Z",
     "iopub.status.busy": "2024-10-13T15:32:09.560224Z",
     "iopub.status.idle": "2024-10-13T15:32:09.567869Z",
     "shell.execute_reply": "2024-10-13T15:32:09.566653Z"
    },
    "papermill": {
     "duration": 0.019568,
     "end_time": "2024-10-13T15:32:09.570367",
     "exception": false,
     "start_time": "2024-10-13T15:32:09.550799",
     "status": "completed"
    },
    "tags": []
   },
   "outputs": [
    {
     "data": {
      "text/plain": [
       "(3997, 18)"
      ]
     },
     "execution_count": 2,
     "metadata": {},
     "output_type": "execute_result"
    }
   ],
   "source": [
    "df.shape"
   ]
  },
  {
   "cell_type": "markdown",
   "id": "e38bda0c",
   "metadata": {
    "papermill": {
     "duration": 0.007758,
     "end_time": "2024-10-13T15:32:09.586403",
     "exception": false,
     "start_time": "2024-10-13T15:32:09.578645",
     "status": "completed"
    },
    "tags": []
   },
   "source": [
    "## Drop rows with any null values and delete duplicates"
   ]
  },
  {
   "cell_type": "code",
   "execution_count": 3,
   "id": "a8c22bcf",
   "metadata": {
    "execution": {
     "iopub.execute_input": "2024-10-13T15:32:09.604713Z",
     "iopub.status.busy": "2024-10-13T15:32:09.604249Z",
     "iopub.status.idle": "2024-10-13T15:32:09.627797Z",
     "shell.execute_reply": "2024-10-13T15:32:09.626508Z"
    },
    "papermill": {
     "duration": 0.036087,
     "end_time": "2024-10-13T15:32:09.630478",
     "exception": false,
     "start_time": "2024-10-13T15:32:09.594391",
     "status": "completed"
    },
    "tags": []
   },
   "outputs": [
    {
     "data": {
      "text/plain": [
       "(2610, 18)"
      ]
     },
     "execution_count": 3,
     "metadata": {},
     "output_type": "execute_result"
    }
   ],
   "source": [
    "df = df.dropna(how='any', axis=0)\n",
    "df.shape"
   ]
  },
  {
   "cell_type": "code",
   "execution_count": 4,
   "id": "e2e44da4",
   "metadata": {
    "execution": {
     "iopub.execute_input": "2024-10-13T15:32:09.648858Z",
     "iopub.status.busy": "2024-10-13T15:32:09.648437Z",
     "iopub.status.idle": "2024-10-13T15:32:09.662163Z",
     "shell.execute_reply": "2024-10-13T15:32:09.660908Z"
    },
    "papermill": {
     "duration": 0.025831,
     "end_time": "2024-10-13T15:32:09.664613",
     "exception": false,
     "start_time": "2024-10-13T15:32:09.638782",
     "status": "completed"
    },
    "tags": []
   },
   "outputs": [
    {
     "data": {
      "text/plain": [
       "(2545, 18)"
      ]
     },
     "execution_count": 4,
     "metadata": {},
     "output_type": "execute_result"
    }
   ],
   "source": [
    "#df.duplicated(subset=['Customer ID'], keep='last')\n",
    "df = df.drop_duplicates(subset=['Customer ID'], keep='last')\n",
    "df.shape"
   ]
  },
  {
   "cell_type": "markdown",
   "id": "19211acc",
   "metadata": {
    "papermill": {
     "duration": 0.008069,
     "end_time": "2024-10-13T15:32:09.681718",
     "exception": false,
     "start_time": "2024-10-13T15:32:09.673649",
     "status": "completed"
    },
    "tags": []
   },
   "source": [
    "#### Questions:\n",
    "\n",
    "❓💬❓ Q1: What is the age distribution of the customers? How old are the people who shop the most?  \n",
    "❓💬❓ Q2: Who spends the most money on purchases, categorised by gender?  \n",
    "❓💬❓ Q3: What is the most common frequency at which men make purchases? How does it compare for women?  \n",
    "❓💬❓ Q4: Which seasons experience the highest sales volume?  \n",
    "❓💬❓ Q5: In which cities do the customers tend to spend the most in average?  \n",
    "❓💬❓ Q6: Which locations have the most consistent purchasing behavior?  \n",
    "❓💬❓ Q7: How many of the customers who are subscribed wrote a review?  \n",
    "❓💬❓ Q8: What is the average review rating of customers who are not subscribed?  \n",
    "❓💬❓ Q9: How effective, in percentage, are promo codes in increasing the purchase amount?  "
   ]
  },
  {
   "cell_type": "code",
   "execution_count": 5,
   "id": "888dcb9e",
   "metadata": {
    "execution": {
     "iopub.execute_input": "2024-10-13T15:32:09.701251Z",
     "iopub.status.busy": "2024-10-13T15:32:09.700843Z",
     "iopub.status.idle": "2024-10-13T15:32:09.737962Z",
     "shell.execute_reply": "2024-10-13T15:32:09.736354Z"
    },
    "papermill": {
     "duration": 0.050569,
     "end_time": "2024-10-13T15:32:09.740743",
     "exception": false,
     "start_time": "2024-10-13T15:32:09.690174",
     "status": "completed"
    },
    "tags": []
   },
   "outputs": [
    {
     "name": "stdout",
     "output_type": "stream",
     "text": [
      "❓💬❓ Q1: What is the age distribution of the customers? How old are the people who shop the most?\n",
      "\n",
      "!💬! a) The distribution of customer ages:\n",
      "mean    44.060118\n",
      "std     15.225375\n",
      "min     18.000000\n",
      "25%     31.000000\n",
      "50%     44.000000\n",
      "75%     57.000000\n",
      "max     70.000000\n",
      "Name: Age, dtype: float64\n",
      "\n",
      "!💬! b) The age distribution of customers with the top 10% purchase amount:\n",
      "mean    43.723077\n",
      "std     15.407222\n",
      "min     18.000000\n",
      "25%     30.000000\n",
      "50%     45.000000\n",
      "75%     56.000000\n",
      "max     70.000000\n",
      "Name: Age, dtype: float64\n"
     ]
    }
   ],
   "source": [
    "print('❓💬❓ Q1: What is the age distribution of the customers? How old are the people who shop the most?')\n",
    "print('\\n!💬! a) The distribution of customer ages:')\n",
    "print(df.describe()['Age'][1:])\n",
    "\n",
    "print('\\n!💬! b) The age distribution of customers with the top 10% purchase amount:')\n",
    "amt_percentile_90 = df['Purchase Amount (USD)'].quantile(0.90)\n",
    "print(df[df['Purchase Amount (USD)'] >= amt_percentile_90].describe()['Age'][1:])"
   ]
  },
  {
   "cell_type": "code",
   "execution_count": 6,
   "id": "b11f93a4",
   "metadata": {
    "execution": {
     "iopub.execute_input": "2024-10-13T15:32:09.760546Z",
     "iopub.status.busy": "2024-10-13T15:32:09.759318Z",
     "iopub.status.idle": "2024-10-13T15:32:09.780386Z",
     "shell.execute_reply": "2024-10-13T15:32:09.779264Z"
    },
    "papermill": {
     "duration": 0.033479,
     "end_time": "2024-10-13T15:32:09.782950",
     "exception": false,
     "start_time": "2024-10-13T15:32:09.749471",
     "status": "completed"
    },
    "tags": []
   },
   "outputs": [
    {
     "name": "stdout",
     "output_type": "stream",
     "text": [
      "❓💬❓ Q2: Who spends the most money on purchases, categorised by gender?\n",
      "\n",
      "!💬! The average spend amount grouped by gender:\n",
      "** Females spend slightly more than men, statistically insignificant **\n"
     ]
    },
    {
     "data": {
      "text/html": [
       "<div>\n",
       "<style scoped>\n",
       "    .dataframe tbody tr th:only-of-type {\n",
       "        vertical-align: middle;\n",
       "    }\n",
       "\n",
       "    .dataframe tbody tr th {\n",
       "        vertical-align: top;\n",
       "    }\n",
       "\n",
       "    .dataframe thead th {\n",
       "        text-align: right;\n",
       "    }\n",
       "</style>\n",
       "<table border=\"1\" class=\"dataframe\">\n",
       "  <thead>\n",
       "    <tr style=\"text-align: right;\">\n",
       "      <th>Gender</th>\n",
       "      <th>Female</th>\n",
       "      <th>Male</th>\n",
       "    </tr>\n",
       "  </thead>\n",
       "  <tbody>\n",
       "    <tr>\n",
       "      <th>Purchase Amount (USD)</th>\n",
       "      <td>60.014303</td>\n",
       "      <td>59.42966</td>\n",
       "    </tr>\n",
       "  </tbody>\n",
       "</table>\n",
       "</div>"
      ],
      "text/plain": [
       "Gender                    Female      Male\n",
       "Purchase Amount (USD)  60.014303  59.42966"
      ]
     },
     "execution_count": 6,
     "metadata": {},
     "output_type": "execute_result"
    }
   ],
   "source": [
    "print('❓💬❓ Q2: Who spends the most money on purchases, categorised by gender?')\n",
    "print('\\n!💬! The average spend amount grouped by gender:')\n",
    "print('** Females spend slightly more than men, statistically insignificant **')\n",
    "df[['Gender','Purchase Amount (USD)']].groupby(['Gender']).mean().transpose()"
   ]
  },
  {
   "cell_type": "code",
   "execution_count": 7,
   "id": "0f39a133",
   "metadata": {
    "execution": {
     "iopub.execute_input": "2024-10-13T15:32:09.803473Z",
     "iopub.status.busy": "2024-10-13T15:32:09.802600Z",
     "iopub.status.idle": "2024-10-13T15:32:09.820076Z",
     "shell.execute_reply": "2024-10-13T15:32:09.818833Z"
    },
    "papermill": {
     "duration": 0.030819,
     "end_time": "2024-10-13T15:32:09.822730",
     "exception": false,
     "start_time": "2024-10-13T15:32:09.791911",
     "status": "completed"
    },
    "tags": []
   },
   "outputs": [
    {
     "name": "stdout",
     "output_type": "stream",
     "text": [
      "❓💬❓ Q3: What is the most common frequency at which men make purchases? How does it compare for women?\n",
      "\n",
      "!💬! The time between purchases grouped by gender:\n",
      "** Most men buys quarterly, most women annually, as described by the following table **\n"
     ]
    },
    {
     "data": {
      "text/html": [
       "<div>\n",
       "<style scoped>\n",
       "    .dataframe tbody tr th:only-of-type {\n",
       "        vertical-align: middle;\n",
       "    }\n",
       "\n",
       "    .dataframe tbody tr th {\n",
       "        vertical-align: top;\n",
       "    }\n",
       "\n",
       "    .dataframe thead th {\n",
       "        text-align: right;\n",
       "    }\n",
       "</style>\n",
       "<table border=\"1\" class=\"dataframe\">\n",
       "  <thead>\n",
       "    <tr style=\"text-align: right;\">\n",
       "      <th></th>\n",
       "      <th></th>\n",
       "      <th>Count</th>\n",
       "    </tr>\n",
       "    <tr>\n",
       "      <th>Gender</th>\n",
       "      <th>Frequency of Purchases</th>\n",
       "      <th></th>\n",
       "    </tr>\n",
       "  </thead>\n",
       "  <tbody>\n",
       "    <tr>\n",
       "      <th rowspan=\"7\" valign=\"top\">Female</th>\n",
       "      <th>Annually</th>\n",
       "      <td>141</td>\n",
       "    </tr>\n",
       "    <tr>\n",
       "      <th>Bi-Weekly</th>\n",
       "      <td>121</td>\n",
       "    </tr>\n",
       "    <tr>\n",
       "      <th>Every 3 Months</th>\n",
       "      <td>129</td>\n",
       "    </tr>\n",
       "    <tr>\n",
       "      <th>Fortnightly</th>\n",
       "      <td>105</td>\n",
       "    </tr>\n",
       "    <tr>\n",
       "      <th>Monthly</th>\n",
       "      <td>116</td>\n",
       "    </tr>\n",
       "    <tr>\n",
       "      <th>Quarterly</th>\n",
       "      <td>113</td>\n",
       "    </tr>\n",
       "    <tr>\n",
       "      <th>Weekly</th>\n",
       "      <td>114</td>\n",
       "    </tr>\n",
       "    <tr>\n",
       "      <th rowspan=\"7\" valign=\"top\">Male</th>\n",
       "      <th>Annually</th>\n",
       "      <td>239</td>\n",
       "    </tr>\n",
       "    <tr>\n",
       "      <th>Bi-Weekly</th>\n",
       "      <td>238</td>\n",
       "    </tr>\n",
       "    <tr>\n",
       "      <th>Every 3 Months</th>\n",
       "      <td>245</td>\n",
       "    </tr>\n",
       "    <tr>\n",
       "      <th>Fortnightly</th>\n",
       "      <td>247</td>\n",
       "    </tr>\n",
       "    <tr>\n",
       "      <th>Monthly</th>\n",
       "      <td>246</td>\n",
       "    </tr>\n",
       "    <tr>\n",
       "      <th>Quarterly</th>\n",
       "      <td>259</td>\n",
       "    </tr>\n",
       "    <tr>\n",
       "      <th>Weekly</th>\n",
       "      <td>232</td>\n",
       "    </tr>\n",
       "  </tbody>\n",
       "</table>\n",
       "</div>"
      ],
      "text/plain": [
       "                               Count\n",
       "Gender Frequency of Purchases       \n",
       "Female Annually                  141\n",
       "       Bi-Weekly                 121\n",
       "       Every 3 Months            129\n",
       "       Fortnightly               105\n",
       "       Monthly                   116\n",
       "       Quarterly                 113\n",
       "       Weekly                    114\n",
       "Male   Annually                  239\n",
       "       Bi-Weekly                 238\n",
       "       Every 3 Months            245\n",
       "       Fortnightly               247\n",
       "       Monthly                   246\n",
       "       Quarterly                 259\n",
       "       Weekly                    232"
      ]
     },
     "execution_count": 7,
     "metadata": {},
     "output_type": "execute_result"
    }
   ],
   "source": [
    "print('❓💬❓ Q3: What is the most common frequency at which men make purchases? How does it compare for women?')\n",
    "print('\\n!💬! The time between purchases grouped by gender:')\n",
    "print('** Most men buys quarterly, most women annually, as described by the following table **')\n",
    "pd.DataFrame(df.groupby(['Gender','Frequency of Purchases']).size(), columns=['Count'])"
   ]
  },
  {
   "cell_type": "code",
   "execution_count": 8,
   "id": "6954337c",
   "metadata": {
    "execution": {
     "iopub.execute_input": "2024-10-13T15:32:09.843405Z",
     "iopub.status.busy": "2024-10-13T15:32:09.843005Z",
     "iopub.status.idle": "2024-10-13T15:32:09.861913Z",
     "shell.execute_reply": "2024-10-13T15:32:09.860786Z"
    },
    "papermill": {
     "duration": 0.032149,
     "end_time": "2024-10-13T15:32:09.864257",
     "exception": false,
     "start_time": "2024-10-13T15:32:09.832108",
     "status": "completed"
    },
    "tags": []
   },
   "outputs": [
    {
     "name": "stdout",
     "output_type": "stream",
     "text": [
      "❓💬❓ Q4: Which seasons experience the highest sales volume?\n",
      "\n",
      "!💬! The total spend amount grouped by season:\n",
      "** Fall has the highest sales volume, closely followed by spring **\n"
     ]
    },
    {
     "data": {
      "text/html": [
       "<div>\n",
       "<style scoped>\n",
       "    .dataframe tbody tr th:only-of-type {\n",
       "        vertical-align: middle;\n",
       "    }\n",
       "\n",
       "    .dataframe tbody tr th {\n",
       "        vertical-align: top;\n",
       "    }\n",
       "\n",
       "    .dataframe thead th {\n",
       "        text-align: right;\n",
       "    }\n",
       "</style>\n",
       "<table border=\"1\" class=\"dataframe\">\n",
       "  <thead>\n",
       "    <tr style=\"text-align: right;\">\n",
       "      <th></th>\n",
       "      <th>Purchase Amount (USD)</th>\n",
       "    </tr>\n",
       "    <tr>\n",
       "      <th>Season</th>\n",
       "      <th></th>\n",
       "    </tr>\n",
       "  </thead>\n",
       "  <tbody>\n",
       "    <tr>\n",
       "      <th>Fall</th>\n",
       "      <td>39490.0</td>\n",
       "    </tr>\n",
       "    <tr>\n",
       "      <th>Spring</th>\n",
       "      <td>39376.0</td>\n",
       "    </tr>\n",
       "    <tr>\n",
       "      <th>Summer</th>\n",
       "      <td>37105.0</td>\n",
       "    </tr>\n",
       "    <tr>\n",
       "      <th>Winter</th>\n",
       "      <td>35768.0</td>\n",
       "    </tr>\n",
       "  </tbody>\n",
       "</table>\n",
       "</div>"
      ],
      "text/plain": [
       "        Purchase Amount (USD)\n",
       "Season                       \n",
       "Fall                  39490.0\n",
       "Spring                39376.0\n",
       "Summer                37105.0\n",
       "Winter                35768.0"
      ]
     },
     "execution_count": 8,
     "metadata": {},
     "output_type": "execute_result"
    }
   ],
   "source": [
    "print('❓💬❓ Q4: Which seasons experience the highest sales volume?')\n",
    "print('\\n!💬! The total spend amount grouped by season:')\n",
    "print('** Fall has the highest sales volume, closely followed by spring **')\n",
    "\n",
    "df[['Season', 'Purchase Amount (USD)']].groupby(['Season']).sum()"
   ]
  },
  {
   "cell_type": "code",
   "execution_count": 9,
   "id": "88a7f1a9",
   "metadata": {
    "execution": {
     "iopub.execute_input": "2024-10-13T15:32:09.885601Z",
     "iopub.status.busy": "2024-10-13T15:32:09.885175Z",
     "iopub.status.idle": "2024-10-13T15:32:09.903816Z",
     "shell.execute_reply": "2024-10-13T15:32:09.902717Z"
    },
    "papermill": {
     "duration": 0.032173,
     "end_time": "2024-10-13T15:32:09.906197",
     "exception": false,
     "start_time": "2024-10-13T15:32:09.874024",
     "status": "completed"
    },
    "tags": []
   },
   "outputs": [
    {
     "name": "stdout",
     "output_type": "stream",
     "text": [
      "❓💬❓ Q5: In which cities do the customers tend to spend the most in average?\n",
      "\n",
      "!💬! The top 10 average spend grouped by state:\n",
      "** Top spend in Arizona **\n"
     ]
    },
    {
     "data": {
      "text/html": [
       "<div>\n",
       "<style scoped>\n",
       "    .dataframe tbody tr th:only-of-type {\n",
       "        vertical-align: middle;\n",
       "    }\n",
       "\n",
       "    .dataframe tbody tr th {\n",
       "        vertical-align: top;\n",
       "    }\n",
       "\n",
       "    .dataframe thead th {\n",
       "        text-align: right;\n",
       "    }\n",
       "</style>\n",
       "<table border=\"1\" class=\"dataframe\">\n",
       "  <thead>\n",
       "    <tr style=\"text-align: right;\">\n",
       "      <th></th>\n",
       "      <th>Purchase Amount (USD)</th>\n",
       "    </tr>\n",
       "    <tr>\n",
       "      <th>Location</th>\n",
       "      <th></th>\n",
       "    </tr>\n",
       "  </thead>\n",
       "  <tbody>\n",
       "    <tr>\n",
       "      <th>Arizona</th>\n",
       "      <td>68.400000</td>\n",
       "    </tr>\n",
       "    <tr>\n",
       "      <th>Alaska</th>\n",
       "      <td>67.529412</td>\n",
       "    </tr>\n",
       "    <tr>\n",
       "      <th>Michigan</th>\n",
       "      <td>66.607843</td>\n",
       "    </tr>\n",
       "    <tr>\n",
       "      <th>Pennsylvania</th>\n",
       "      <td>65.083333</td>\n",
       "    </tr>\n",
       "    <tr>\n",
       "      <th>Tennessee</th>\n",
       "      <td>64.183673</td>\n",
       "    </tr>\n",
       "    <tr>\n",
       "      <th>North Dakota</th>\n",
       "      <td>63.180000</td>\n",
       "    </tr>\n",
       "    <tr>\n",
       "      <th>New Mexico</th>\n",
       "      <td>62.705882</td>\n",
       "    </tr>\n",
       "    <tr>\n",
       "      <th>Illinois</th>\n",
       "      <td>62.500000</td>\n",
       "    </tr>\n",
       "    <tr>\n",
       "      <th>West Virginia</th>\n",
       "      <td>62.367347</td>\n",
       "    </tr>\n",
       "    <tr>\n",
       "      <th>South Dakota</th>\n",
       "      <td>62.195652</td>\n",
       "    </tr>\n",
       "  </tbody>\n",
       "</table>\n",
       "</div>"
      ],
      "text/plain": [
       "               Purchase Amount (USD)\n",
       "Location                            \n",
       "Arizona                    68.400000\n",
       "Alaska                     67.529412\n",
       "Michigan                   66.607843\n",
       "Pennsylvania               65.083333\n",
       "Tennessee                  64.183673\n",
       "North Dakota               63.180000\n",
       "New Mexico                 62.705882\n",
       "Illinois                   62.500000\n",
       "West Virginia              62.367347\n",
       "South Dakota               62.195652"
      ]
     },
     "execution_count": 9,
     "metadata": {},
     "output_type": "execute_result"
    }
   ],
   "source": [
    "print('❓💬❓ Q5: In which cities do the customers tend to spend the most in average?')\n",
    "\n",
    "print('\\n!💬! The top 10 average spend grouped by state:')\n",
    "print('** Top spend in Arizona **')\n",
    "df[['Location', 'Purchase Amount (USD)']].groupby(['Location']).mean().sort_values(by=['Purchase Amount (USD)'], ascending=False).head(10)"
   ]
  },
  {
   "cell_type": "code",
   "execution_count": 10,
   "id": "bf654c2d",
   "metadata": {
    "execution": {
     "iopub.execute_input": "2024-10-13T15:32:09.928163Z",
     "iopub.status.busy": "2024-10-13T15:32:09.927384Z",
     "iopub.status.idle": "2024-10-13T15:32:09.946110Z",
     "shell.execute_reply": "2024-10-13T15:32:09.944747Z"
    },
    "papermill": {
     "duration": 0.032343,
     "end_time": "2024-10-13T15:32:09.948527",
     "exception": false,
     "start_time": "2024-10-13T15:32:09.916184",
     "status": "completed"
    },
    "tags": []
   },
   "outputs": [
    {
     "name": "stdout",
     "output_type": "stream",
     "text": [
      "❓💬❓ Q6: Which locations have the most consistent purchasing behavior?\n",
      "\n",
      "!💬! The minimum standard deviation in spend grouped by state:\n",
      "** Most consistent spend in Maine **\n"
     ]
    },
    {
     "data": {
      "text/html": [
       "<div>\n",
       "<style scoped>\n",
       "    .dataframe tbody tr th:only-of-type {\n",
       "        vertical-align: middle;\n",
       "    }\n",
       "\n",
       "    .dataframe tbody tr th {\n",
       "        vertical-align: top;\n",
       "    }\n",
       "\n",
       "    .dataframe thead th {\n",
       "        text-align: right;\n",
       "    }\n",
       "</style>\n",
       "<table border=\"1\" class=\"dataframe\">\n",
       "  <thead>\n",
       "    <tr style=\"text-align: right;\">\n",
       "      <th></th>\n",
       "      <th>Purchase Amount (USD)</th>\n",
       "    </tr>\n",
       "    <tr>\n",
       "      <th>Location</th>\n",
       "      <th></th>\n",
       "    </tr>\n",
       "  </thead>\n",
       "  <tbody>\n",
       "    <tr>\n",
       "      <th>Maine</th>\n",
       "      <td>19.977467</td>\n",
       "    </tr>\n",
       "    <tr>\n",
       "      <th>New Hampshire</th>\n",
       "      <td>20.206657</td>\n",
       "    </tr>\n",
       "    <tr>\n",
       "      <th>New Jersey</th>\n",
       "      <td>21.374745</td>\n",
       "    </tr>\n",
       "    <tr>\n",
       "      <th>New Mexico</th>\n",
       "      <td>21.855246</td>\n",
       "    </tr>\n",
       "    <tr>\n",
       "      <th>South Carolina</th>\n",
       "      <td>22.079285</td>\n",
       "    </tr>\n",
       "    <tr>\n",
       "      <th>New York</th>\n",
       "      <td>22.219882</td>\n",
       "    </tr>\n",
       "    <tr>\n",
       "      <th>Texas</th>\n",
       "      <td>22.330201</td>\n",
       "    </tr>\n",
       "    <tr>\n",
       "      <th>Oregon</th>\n",
       "      <td>22.335007</td>\n",
       "    </tr>\n",
       "    <tr>\n",
       "      <th>Massachusetts</th>\n",
       "      <td>22.617213</td>\n",
       "    </tr>\n",
       "    <tr>\n",
       "      <th>North Carolina</th>\n",
       "      <td>22.626309</td>\n",
       "    </tr>\n",
       "  </tbody>\n",
       "</table>\n",
       "</div>"
      ],
      "text/plain": [
       "                Purchase Amount (USD)\n",
       "Location                             \n",
       "Maine                       19.977467\n",
       "New Hampshire               20.206657\n",
       "New Jersey                  21.374745\n",
       "New Mexico                  21.855246\n",
       "South Carolina              22.079285\n",
       "New York                    22.219882\n",
       "Texas                       22.330201\n",
       "Oregon                      22.335007\n",
       "Massachusetts               22.617213\n",
       "North Carolina              22.626309"
      ]
     },
     "execution_count": 10,
     "metadata": {},
     "output_type": "execute_result"
    }
   ],
   "source": [
    "print('❓💬❓ Q6: Which locations have the most consistent purchasing behavior?')\n",
    "\n",
    "print('\\n!💬! The minimum standard deviation in spend grouped by state:')\n",
    "print('** Most consistent spend in Maine **')\n",
    "df[['Location', 'Purchase Amount (USD)']].groupby(['Location']).std().sort_values(by=['Purchase Amount (USD)'], ascending=True).head(10)"
   ]
  },
  {
   "cell_type": "code",
   "execution_count": 11,
   "id": "56c9e6fb",
   "metadata": {
    "execution": {
     "iopub.execute_input": "2024-10-13T15:32:09.971240Z",
     "iopub.status.busy": "2024-10-13T15:32:09.970782Z",
     "iopub.status.idle": "2024-10-13T15:32:10.009720Z",
     "shell.execute_reply": "2024-10-13T15:32:10.008560Z"
    },
    "papermill": {
     "duration": 0.053444,
     "end_time": "2024-10-13T15:32:10.012459",
     "exception": false,
     "start_time": "2024-10-13T15:32:09.959015",
     "status": "completed"
    },
    "tags": []
   },
   "outputs": [
    {
     "name": "stdout",
     "output_type": "stream",
     "text": [
      "❓💬❓ Q7: How many of the customers who are subscribed wrote a review?\n",
      "\n",
      "!💬! The number of review givers grouped by subscription status:\n",
      "** 1005 subscribers wrote a review **\n"
     ]
    },
    {
     "data": {
      "text/html": [
       "<div>\n",
       "<style scoped>\n",
       "    .dataframe tbody tr th:only-of-type {\n",
       "        vertical-align: middle;\n",
       "    }\n",
       "\n",
       "    .dataframe tbody tr th {\n",
       "        vertical-align: top;\n",
       "    }\n",
       "\n",
       "    .dataframe thead th {\n",
       "        text-align: right;\n",
       "    }\n",
       "</style>\n",
       "<table border=\"1\" class=\"dataframe\">\n",
       "  <thead>\n",
       "    <tr style=\"text-align: right;\">\n",
       "      <th></th>\n",
       "      <th>Count</th>\n",
       "    </tr>\n",
       "    <tr>\n",
       "      <th>Subscription Status</th>\n",
       "      <th></th>\n",
       "    </tr>\n",
       "  </thead>\n",
       "  <tbody>\n",
       "    <tr>\n",
       "      <th>No</th>\n",
       "      <td>2705</td>\n",
       "    </tr>\n",
       "    <tr>\n",
       "      <th>Yes</th>\n",
       "      <td>1005</td>\n",
       "    </tr>\n",
       "  </tbody>\n",
       "</table>\n",
       "</div>"
      ],
      "text/plain": [
       "                     Count\n",
       "Subscription Status       \n",
       "No                    2705\n",
       "Yes                   1005"
      ]
     },
     "execution_count": 11,
     "metadata": {},
     "output_type": "execute_result"
    }
   ],
   "source": [
    "print('❓💬❓ Q7: How many of the customers who are subscribed wrote a review?')\n",
    "\n",
    "# Missing reviews were dropped during cleansing, relaoad the data\n",
    "df2 = pd.read_csv('/kaggle/input/shopping-behaviour-modified-for-lab/shopping_behaviour_new(1).csv')\n",
    "df2 = df2.drop_duplicates(subset=['Customer ID'], keep='last')\n",
    "print('\\n!💬! The number of review givers grouped by subscription status:')\n",
    "print('** 1005 subscribers wrote a review **')\n",
    "\n",
    "pd.DataFrame(df2[df2['Review Rating'].notnull()][['Subscription Status', 'Review Rating']].groupby(['Subscription Status']).size(), columns=['Count'])\n"
   ]
  },
  {
   "cell_type": "code",
   "execution_count": 12,
   "id": "eecec0ea",
   "metadata": {
    "execution": {
     "iopub.execute_input": "2024-10-13T15:32:10.036162Z",
     "iopub.status.busy": "2024-10-13T15:32:10.035723Z",
     "iopub.status.idle": "2024-10-13T15:32:10.513759Z",
     "shell.execute_reply": "2024-10-13T15:32:10.512533Z"
    },
    "papermill": {
     "duration": 0.493028,
     "end_time": "2024-10-13T15:32:10.516471",
     "exception": false,
     "start_time": "2024-10-13T15:32:10.023443",
     "status": "completed"
    },
    "tags": []
   },
   "outputs": [
    {
     "data": {
      "text/plain": [
       "<Axes: xlabel='Subscription Status'>"
      ]
     },
     "execution_count": 12,
     "metadata": {},
     "output_type": "execute_result"
    },
    {
     "data": {
      "image/png": "[encoded data removed]",
      "text/plain": [
       "<Figure size 640x480 with 1 Axes>"
      ]
     },
     "metadata": {},
     "output_type": "display_data"
    }
   ],
   "source": [
    "df3 = (df[['Review Rating', 'Subscription Status']]).dropna(axis=0, subset=['Subscription Status'])\n",
    "bins = [2.5, 3, 3.5, 4, 4.5, 5]\n",
    "#bins = [2.5, 5]\n",
    "df3['Review intervals'] = pd.cut(df['Review Rating'], bins)\n",
    "df4 = pd.DataFrame(df3.groupby(['Subscription Status', 'Review intervals'], dropna=False, observed=False).size(), columns=['Count'])\n",
    "df4\n",
    "#pd.DataFrame(df2[['Review Rating', 'Subscription Status']].groupby(['Subscription Status', 'Review Rating'], dropna=False).size())\n",
    "#plot = df4.plot.pie(subplots=True) \n",
    "#plot = df4.plot.bar(stacked=False)\n",
    "df['Review intervals'] = pd.cut(df['Review Rating'], bins)\n",
    "#df3.groupby(['Subscription Status', 'Review intervals'], dropna=False, observed=False).size().unstack().plot(kind='pie', subplots=True, colormap='viridis')\n",
    "df3.groupby(['Subscription Status', 'Review intervals'], dropna=False, observed=False).size().unstack().plot(kind='bar', subplots=False, colormap='viridis')\n",
    "\n"
   ]
  },
  {
   "cell_type": "code",
   "execution_count": 13,
   "id": "f60108d7",
   "metadata": {
    "execution": {
     "iopub.execute_input": "2024-10-13T15:32:10.542084Z",
     "iopub.status.busy": "2024-10-13T15:32:10.541643Z",
     "iopub.status.idle": "2024-10-13T15:32:10.557143Z",
     "shell.execute_reply": "2024-10-13T15:32:10.555973Z"
    },
    "papermill": {
     "duration": 0.031253,
     "end_time": "2024-10-13T15:32:10.559568",
     "exception": false,
     "start_time": "2024-10-13T15:32:10.528315",
     "status": "completed"
    },
    "tags": []
   },
   "outputs": [
    {
     "name": "stdout",
     "output_type": "stream",
     "text": [
      "❓💬❓ Q8: What is the average review rating of customers who are not subscribed?\n",
      "\n",
      "!💬! Average review rating grouped by subscription status:\n",
      "** Non-subscribers gave 3.75 on average **\n"
     ]
    },
    {
     "data": {
      "text/html": [
       "<div>\n",
       "<style scoped>\n",
       "    .dataframe tbody tr th:only-of-type {\n",
       "        vertical-align: middle;\n",
       "    }\n",
       "\n",
       "    .dataframe tbody tr th {\n",
       "        vertical-align: top;\n",
       "    }\n",
       "\n",
       "    .dataframe thead th {\n",
       "        text-align: right;\n",
       "    }\n",
       "</style>\n",
       "<table border=\"1\" class=\"dataframe\">\n",
       "  <thead>\n",
       "    <tr style=\"text-align: right;\">\n",
       "      <th></th>\n",
       "      <th>Review Rating</th>\n",
       "    </tr>\n",
       "    <tr>\n",
       "      <th>Subscription Status</th>\n",
       "      <th></th>\n",
       "    </tr>\n",
       "  </thead>\n",
       "  <tbody>\n",
       "    <tr>\n",
       "      <th>No</th>\n",
       "      <td>3.752157</td>\n",
       "    </tr>\n",
       "    <tr>\n",
       "      <th>Yes</th>\n",
       "      <td>3.736903</td>\n",
       "    </tr>\n",
       "  </tbody>\n",
       "</table>\n",
       "</div>"
      ],
      "text/plain": [
       "                     Review Rating\n",
       "Subscription Status               \n",
       "No                        3.752157\n",
       "Yes                       3.736903"
      ]
     },
     "execution_count": 13,
     "metadata": {},
     "output_type": "execute_result"
    }
   ],
   "source": [
    "print('❓💬❓ Q8: What is the average review rating of customers who are not subscribed?')\n",
    "print('\\n!💬! Average review rating grouped by subscription status:')\n",
    "print('** Non-subscribers gave 3.75 on average **')\n",
    "df[['Subscription Status', 'Review Rating']].groupby(['Subscription Status']).mean()\n"
   ]
  },
  {
   "cell_type": "code",
   "execution_count": 14,
   "id": "8af734d9",
   "metadata": {
    "execution": {
     "iopub.execute_input": "2024-10-13T15:32:10.585410Z",
     "iopub.status.busy": "2024-10-13T15:32:10.585002Z",
     "iopub.status.idle": "2024-10-13T15:32:10.598821Z",
     "shell.execute_reply": "2024-10-13T15:32:10.597697Z"
    },
    "papermill": {
     "duration": 0.029963,
     "end_time": "2024-10-13T15:32:10.601709",
     "exception": false,
     "start_time": "2024-10-13T15:32:10.571746",
     "status": "completed"
    },
    "tags": []
   },
   "outputs": [
    {
     "name": "stdout",
     "output_type": "stream",
     "text": [
      "❓💬❓ Q9: How effective, in percentage, are promo codes in increasing the purchase amount?\n",
      "\n",
      "!💬! Average purchase amount grouped by promo code:\n",
      "Promo Code Used               No       Yes\n",
      "Purchase Amount (USD)  59.391154  59.92714\n",
      "** Promotion code efficiency: 0.9 % **\n"
     ]
    }
   ],
   "source": [
    "print('❓💬❓ Q9: How effective, in percentage, are promo codes in increasing the purchase amount?')\n",
    "\n",
    "print('\\n!💬! Average purchase amount grouped by promo code:')\n",
    "promo_avg_amts = df[['Purchase Amount (USD)', 'Promo Code Used']].groupby(['Promo Code Used']).mean().transpose()\n",
    "print(promo_avg_amts)\n",
    "eff_pct = 100 * (promo_avg_amts.iloc[0]['Yes']/promo_avg_amts.iloc[0]['No'] - 1)\n",
    "print('** Promotion code efficiency:', eff_pct.round(2), '% **')"
   ]
  },
  {
   "cell_type": "markdown",
   "id": "5a8a8c3f",
   "metadata": {
    "papermill": {
     "duration": 0.011768,
     "end_time": "2024-10-13T15:32:10.625506",
     "exception": false,
     "start_time": "2024-10-13T15:32:10.613738",
     "status": "completed"
    },
    "tags": []
   },
   "source": [
    "## Part 2: Creating visualsations"
   ]
  },
  {
   "cell_type": "markdown",
   "id": "d35225f4",
   "metadata": {
    "papermill": {
     "duration": 0.011513,
     "end_time": "2024-10-13T15:32:10.648854",
     "exception": false,
     "start_time": "2024-10-13T15:32:10.637341",
     "status": "completed"
    },
    "tags": []
   },
   "source": [
    "In this part, you need to generate one plot to show the following:\n",
    "- Purchase amount distribution by location \n",
    "- Frequency of purchases by gender \n",
    "- Review frequency by subscription status. \n",
    "\n",
    "Consider using subplots, hues, personalized colors, line shapes, and other design elements to enhance the visualization. Be creative, and ensure that your design is visually accessible.\n",
    "\n",
    "Submit your plot along with a 100-200 word explanation of your layout and design choices."
   ]
  },
  {
   "cell_type": "code",
   "execution_count": 15,
   "id": "e5b24b69",
   "metadata": {
    "execution": {
     "iopub.execute_input": "2024-10-13T15:32:10.675333Z",
     "iopub.status.busy": "2024-10-13T15:32:10.674925Z",
     "iopub.status.idle": "2024-10-13T15:32:13.342458Z",
     "shell.execute_reply": "2024-10-13T15:32:13.341140Z"
    },
    "papermill": {
     "duration": 2.684718,
     "end_time": "2024-10-13T15:32:13.346318",
     "exception": false,
     "start_time": "2024-10-13T15:32:10.661600",
     "status": "completed"
    },
    "tags": []
   },
   "outputs": [
    {
     "data": {
      "image/png": "[encoded data removed]",
      "text/plain": [
       "<Figure size 1400x1800 with 3 Axes>"
      ]
     },
     "metadata": {},
     "output_type": "display_data"
    }
   ],
   "source": [
    "import matplotlib.pyplot as plt\n",
    "import matplotlib.gridspec as gridspec\n",
    "\n",
    "fig = plt.figure(figsize=(14, 18))\n",
    "gs = gridspec.GridSpec(3, 2, height_ratios=[1, 1, 1])\n",
    "\n",
    "# Purchase amount distribution by location (spans both columns)\n",
    "ax1 = fig.add_subplot(gs[0, :])\n",
    "df.groupby('Location')['Purchase Amount (USD)'].mean().sort_values().plot(kind='bar', ax=ax1, color='indigo')\n",
    "ax1.set_title('Average Purchase Amount Distribution by Location')\n",
    "ax1.set_xlabel('Location')\n",
    "ax1.set_ylabel('Average Purchase Amount (USD)')\n",
    "ax1.tick_params(axis='x', rotation=90)\n",
    "\n",
    "# Frequency of purchases by gender (left column)\n",
    "ax2 = fig.add_subplot(gs[1, 0])\n",
    "order = ['Annually', 'Every 3 Months', 'Quarterly', 'Monthly', 'Fortnightly', 'Bi-Weekly', 'Weekly'][::-1]\n",
    "#order = ['Annually', 'Quarterly', 'Monthly', 'Fortnightly', 'Bi-Weekly', 'Weekly']\n",
    "#df['Frequency of Purchases'] = pd.Categorical(df['Frequency of Purchases'], categories=order, ordered=True)\n",
    "#df.groupby(['Gender', 'Frequency of Purchases'], observed=False).size().unstack().reindex(columns=order).plot(kind='bar', stacked=False, ax=ax2, colormap='viridis')\n",
    "df.groupby(['Gender', 'Frequency of Purchases'], observed=False).size().unstack().reindex(columns=order).plot(kind='bar', stacked=False, ax=ax2, colormap='viridis')\n",
    "handles, labels = ax2.get_legend_handles_labels()\n",
    "ax2.legend(handles[::-1], labels[::-1], title='Frequency of Purchases')\n",
    "ax2.set_title('Frequency of Purchases by Gender')\n",
    "ax2.set_xlabel('Gender')\n",
    "ax2.set_ylabel('Number of Purchases')\n",
    "\n",
    "# Review frequency by subscription status (right column)\n",
    "ax3 = fig.add_subplot(gs[1, 1])\n",
    "#df2[df2['Review Rating'].notnull()].groupby('Subscription Status').size().plot(kind='pie', autopct='%1.1f%%', ax=ax3, colors=['#ff9977', '#77ff77'])\n",
    "bins = [2.5, 3, 3.5, 4, 4.5, 5]\n",
    "df['Review intervals'] = pd.cut(df['Review Rating'], bins)\n",
    "df.groupby(['Subscription Status', 'Review intervals'], observed=False).size().unstack().plot(kind='bar', ax=ax3, colormap='cividis')\n",
    "ax3.set_title('Review Frequency by Subscription Status')\n",
    "ax3.set_ylabel('Reviews per Rating Interval')\n",
    "\n",
    "# Increase padding between charts\n",
    "plt.subplots_adjust(hspace=0.4)\n",
    "\n",
    "plt.tight_layout()\n",
    "plt.savefig('plot.png', bbox_inches='tight')\n",
    "plt.show()\n"
   ]
  },
  {
   "cell_type": "markdown",
   "id": "149f1dd7",
   "metadata": {
    "papermill": {
     "duration": 0.013954,
     "end_time": "2024-10-13T15:32:13.374782",
     "exception": false,
     "start_time": "2024-10-13T15:32:13.360828",
     "status": "completed"
    },
    "tags": []
   },
   "source": [
    "### Layout and design choices\n",
    "The layout is based on a 2✕2 grid with each row having equal height to produce a balanced distribution of plots.\n",
    "- **plot 1 (top row)**: The plot spans two columns, making it easier to fit all buckets in the x-axis. A barchart is chosen for its simplicity of comparing discrete values\n",
    "- **plot 2 (bottom left)**: Displays a horizontally grouped bar chart using colors of different lightness to make it interpretable also in gray scale. The bars represent discrete categories and the stacked values shows the cumulative distribution of purchase patterns\n",
    "- **plot 3 (bottom right)**: Again, a grouped bar chart is suitable for displaying proportions between values. To make it clear to the viewer that the data is different from the previous plot, a different color scheme is used.\n",
    "\n",
    "A common, sans serif, font is used for all plots for clarity and readability. This font is the default provided by the ```matplotlib``` library.\n"
   ]
  }
 ],
 "metadata": {
  "kaggle": {
   "accelerator": "none",
   "dataSources": [
    {
     "datasetId": 5793505,
     "sourceId": 9516371,
     "sourceType": "datasetVersion"
    }
   ],
   "dockerImageVersionId": 30698,
   "isGpuEnabled": false,
   "isInternetEnabled": false,
   "language": "python",
   "sourceType": "notebook"
  },
  "kernelspec": {
   "display_name": "Python 3",
   "language": "python",
   "name": "python3"
  },
  "language_info": {
   "codemirror_mode": {
    "name": "ipython",
    "version": 3
   },
   "file_extension": ".py",
   "mimetype": "text/x-python",
   "name": "python",
   "nbconvert_exporter": "python",
   "pygments_lexer": "ipython3",
   "version": "3.10.13"
  },
  "papermill": {
   "default_parameters": {},
   "duration": 9.175425,
   "end_time": "2024-10-13T15:32:13.910387",
   "environment_variables": {},
   "exception": null,
   "input_path": "__notebook__.ipynb",
   "output_path": "__notebook__.ipynb",
   "parameters": {},
   "start_time": "2024-10-13T15:32:04.734962",
   "version": "2.5.0"
  }
 },
 "nbformat": 4,
 "nbformat_minor": 5
}
